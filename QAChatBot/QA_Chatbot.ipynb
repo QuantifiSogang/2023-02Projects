{
  "nbformat": 4,
  "nbformat_minor": 0,
  "metadata": {
    "colab": {
      "provenance": [],
      "toc_visible": true
    },
    "kernelspec": {
      "name": "python3",
      "display_name": "Python 3"
    },
    "language_info": {
      "name": "python"
    }
  },
  "cells": [
    {
      "cell_type": "markdown",
      "source": [
        "# 여러 문서에서 찾아서 답변하는 챗봇 만들기\n",
        "\n",
        "> 유튜브 [빵형의 개발도상국](https://www.youtube.com/@bbanghyong)\n",
        "\n",
        "- QA ChatBot\n",
        "- LangChain\n",
        "- ChatGPT (gpt-3.5-turbo)\n",
        "- ChromaDB"
      ],
      "metadata": {
        "id": "LAG2G551Vx4T"
      }
    },
    {
      "cell_type": "code",
      "execution_count": null,
      "metadata": {
        "id": "RRYSu48huSUW",
        "colab": {
          "base_uri": "https://localhost:8080/"
        },
        "outputId": "ae35b7fb-d454-461c-b900-b87615bd41ff"
      },
      "outputs": [
        {
          "output_type": "stream",
          "name": "stdout",
          "text": [
            "\u001b[2K     \u001b[90m━━━━━━━━━━━━━━━━━━━━━━━━━━━━━━━━━━━━━━━━\u001b[0m \u001b[32m798.0/798.0 kB\u001b[0m \u001b[31m6.1 MB/s\u001b[0m eta \u001b[36m0:00:00\u001b[0m\n",
            "\u001b[2K     \u001b[90m━━━━━━━━━━━━━━━━━━━━━━━━━━━━━━━━━━━━━━━━\u001b[0m \u001b[32m224.9/224.9 kB\u001b[0m \u001b[31m10.4 MB/s\u001b[0m eta \u001b[36m0:00:00\u001b[0m\n",
            "\u001b[2K     \u001b[90m━━━━━━━━━━━━━━━━━━━━━━━━━━━━━━━━━━━━━━━━\u001b[0m \u001b[32m2.0/2.0 MB\u001b[0m \u001b[31m13.9 MB/s\u001b[0m eta \u001b[36m0:00:00\u001b[0m\n",
            "\u001b[2K     \u001b[90m━━━━━━━━━━━━━━━━━━━━━━━━━━━━━━━━━━━━━━━━\u001b[0m \u001b[32m509.0/509.0 kB\u001b[0m \u001b[31m14.2 MB/s\u001b[0m eta \u001b[36m0:00:00\u001b[0m\n",
            "\u001b[2K     \u001b[90m━━━━━━━━━━━━━━━━━━━━━━━━━━━━━━━━━━━━━━━━\u001b[0m \u001b[32m1.5/1.5 MB\u001b[0m \u001b[31m16.8 MB/s\u001b[0m eta \u001b[36m0:00:00\u001b[0m\n",
            "\u001b[2K     \u001b[90m━━━━━━━━━━━━━━━━━━━━━━━━━━━━━━━━━━━━━━━━\u001b[0m \u001b[32m216.6/216.6 kB\u001b[0m \u001b[31m15.8 MB/s\u001b[0m eta \u001b[36m0:00:00\u001b[0m\n",
            "\u001b[2K     \u001b[90m━━━━━━━━━━━━━━━━━━━━━━━━━━━━━━━━━━━━━━━━\u001b[0m \u001b[32m48.3/48.3 kB\u001b[0m \u001b[31m3.6 MB/s\u001b[0m eta \u001b[36m0:00:00\u001b[0m\n",
            "\u001b[2K     \u001b[90m━━━━━━━━━━━━━━━━━━━━━━━━━━━━━━━━━━━━━━━━\u001b[0m \u001b[32m75.9/75.9 kB\u001b[0m \u001b[31m6.3 MB/s\u001b[0m eta \u001b[36m0:00:00\u001b[0m\n",
            "\u001b[2K     \u001b[90m━━━━━━━━━━━━━━━━━━━━━━━━━━━━━━━━━━━━━━━━\u001b[0m \u001b[32m2.4/2.4 MB\u001b[0m \u001b[31m16.3 MB/s\u001b[0m eta \u001b[36m0:00:00\u001b[0m\n",
            "\u001b[2K     \u001b[90m━━━━━━━━━━━━━━━━━━━━━━━━━━━━━━━━━━━━━━━━\u001b[0m \u001b[32m92.0/92.0 kB\u001b[0m \u001b[31m6.3 MB/s\u001b[0m eta \u001b[36m0:00:00\u001b[0m\n",
            "\u001b[2K     \u001b[90m━━━━━━━━━━━━━━━━━━━━━━━━━━━━━━━━━━━━━━━━\u001b[0m \u001b[32m60.3/60.3 kB\u001b[0m \u001b[31m4.8 MB/s\u001b[0m eta \u001b[36m0:00:00\u001b[0m\n",
            "\u001b[2K     \u001b[90m━━━━━━━━━━━━━━━━━━━━━━━━━━━━━━━━━━━━━━━━\u001b[0m \u001b[32m40.6/40.6 kB\u001b[0m \u001b[31m813.4 kB/s\u001b[0m eta \u001b[36m0:00:00\u001b[0m\n",
            "\u001b[2K     \u001b[90m━━━━━━━━━━━━━━━━━━━━━━━━━━━━━━━━━━━━━━━━\u001b[0m \u001b[32m5.4/5.4 MB\u001b[0m \u001b[31m18.6 MB/s\u001b[0m eta \u001b[36m0:00:00\u001b[0m\n",
            "\u001b[2K     \u001b[90m━━━━━━━━━━━━━━━━━━━━━━━━━━━━━━━━━━━━━━━━\u001b[0m \u001b[32m6.4/6.4 MB\u001b[0m \u001b[31m16.2 MB/s\u001b[0m eta \u001b[36m0:00:00\u001b[0m\n",
            "\u001b[2K     \u001b[90m━━━━━━━━━━━━━━━━━━━━━━━━━━━━━━━━━━━━━━━━\u001b[0m \u001b[32m57.9/57.9 kB\u001b[0m \u001b[31m3.0 MB/s\u001b[0m eta \u001b[36m0:00:00\u001b[0m\n",
            "\u001b[2K     \u001b[90m━━━━━━━━━━━━━━━━━━━━━━━━━━━━━━━━━━━━━━━━\u001b[0m \u001b[32m105.6/105.6 kB\u001b[0m \u001b[31m5.6 MB/s\u001b[0m eta \u001b[36m0:00:00\u001b[0m\n",
            "\u001b[2K     \u001b[90m━━━━━━━━━━━━━━━━━━━━━━━━━━━━━━━━━━━━━━━━\u001b[0m \u001b[32m67.3/67.3 kB\u001b[0m \u001b[31m3.6 MB/s\u001b[0m eta \u001b[36m0:00:00\u001b[0m\n",
            "\u001b[?25h  Installing build dependencies ... \u001b[?25l\u001b[?25hdone\n",
            "  Getting requirements to build wheel ... \u001b[?25l\u001b[?25hdone\n",
            "  Preparing metadata (pyproject.toml) ... \u001b[?25l\u001b[?25hdone\n",
            "\u001b[2K     \u001b[90m━━━━━━━━━━━━━━━━━━━━━━━━━━━━━━━━━━━━━━━━\u001b[0m \u001b[32m698.9/698.9 kB\u001b[0m \u001b[31m19.0 MB/s\u001b[0m eta \u001b[36m0:00:00\u001b[0m\n",
            "\u001b[2K     \u001b[90m━━━━━━━━━━━━━━━━━━━━━━━━━━━━━━━━━━━━━━━━\u001b[0m \u001b[32m1.6/1.6 MB\u001b[0m \u001b[31m21.4 MB/s\u001b[0m eta \u001b[36m0:00:00\u001b[0m\n",
            "\u001b[2K     \u001b[90m━━━━━━━━━━━━━━━━━━━━━━━━━━━━━━━━━━━━━━━━\u001b[0m \u001b[32m67.6/67.6 kB\u001b[0m \u001b[31m8.3 MB/s\u001b[0m eta \u001b[36m0:00:00\u001b[0m\n",
            "\u001b[2K     \u001b[90m━━━━━━━━━━━━━━━━━━━━━━━━━━━━━━━━━━━━━━━━\u001b[0m \u001b[32m49.4/49.4 kB\u001b[0m \u001b[31m4.9 MB/s\u001b[0m eta \u001b[36m0:00:00\u001b[0m\n",
            "\u001b[2K     \u001b[90m━━━━━━━━━━━━━━━━━━━━━━━━━━━━━━━━━━━━━━━━\u001b[0m \u001b[32m71.1/71.1 kB\u001b[0m \u001b[31m8.1 MB/s\u001b[0m eta \u001b[36m0:00:00\u001b[0m\n",
            "\u001b[2K     \u001b[90m━━━━━━━━━━━━━━━━━━━━━━━━━━━━━━━━━━━━━━━━\u001b[0m \u001b[32m76.9/76.9 kB\u001b[0m \u001b[31m9.0 MB/s\u001b[0m eta \u001b[36m0:00:00\u001b[0m\n",
            "\u001b[2K     \u001b[90m━━━━━━━━━━━━━━━━━━━━━━━━━━━━━━━━━━━━━━━━\u001b[0m \u001b[32m58.3/58.3 kB\u001b[0m \u001b[31m4.6 MB/s\u001b[0m eta \u001b[36m0:00:00\u001b[0m\n",
            "\u001b[2K     \u001b[90m━━━━━━━━━━━━━━━━━━━━━━━━━━━━━━━━━━━━━━━━\u001b[0m \u001b[32m46.0/46.0 kB\u001b[0m \u001b[31m5.5 MB/s\u001b[0m eta \u001b[36m0:00:00\u001b[0m\n",
            "\u001b[2K     \u001b[90m━━━━━━━━━━━━━━━━━━━━━━━━━━━━━━━━━━━━━━━━\u001b[0m \u001b[32m50.8/50.8 kB\u001b[0m \u001b[31m5.6 MB/s\u001b[0m eta \u001b[36m0:00:00\u001b[0m\n",
            "\u001b[2K     \u001b[90m━━━━━━━━━━━━━━━━━━━━━━━━━━━━━━━━━━━━━━━━\u001b[0m \u001b[32m341.4/341.4 kB\u001b[0m \u001b[31m16.3 MB/s\u001b[0m eta \u001b[36m0:00:00\u001b[0m\n",
            "\u001b[2K     \u001b[90m━━━━━━━━━━━━━━━━━━━━━━━━━━━━━━━━━━━━━━━━\u001b[0m \u001b[32m3.4/3.4 MB\u001b[0m \u001b[31m21.1 MB/s\u001b[0m eta \u001b[36m0:00:00\u001b[0m\n",
            "\u001b[2K     \u001b[90m━━━━━━━━━━━━━━━━━━━━━━━━━━━━━━━━━━━━━━━━\u001b[0m \u001b[32m1.3/1.3 MB\u001b[0m \u001b[31m22.0 MB/s\u001b[0m eta \u001b[36m0:00:00\u001b[0m\n",
            "\u001b[2K     \u001b[90m━━━━━━━━━━━━━━━━━━━━━━━━━━━━━━━━━━━━━━━━\u001b[0m \u001b[32m130.2/130.2 kB\u001b[0m \u001b[31m11.3 MB/s\u001b[0m eta \u001b[36m0:00:00\u001b[0m\n",
            "\u001b[2K     \u001b[90m━━━━━━━━━━━━━━━━━━━━━━━━━━━━━━━━━━━━━━━━\u001b[0m \u001b[32m86.8/86.8 kB\u001b[0m \u001b[31m10.1 MB/s\u001b[0m eta \u001b[36m0:00:00\u001b[0m\n",
            "\u001b[?25h  Building wheel for pypika (pyproject.toml) ... \u001b[?25l\u001b[?25hdone\n",
            "\u001b[31mERROR: pip's dependency resolver does not currently take into account all the packages that are installed. This behaviour is the source of the following dependency conflicts.\n",
            "lida 0.0.10 requires kaleido, which is not installed.\n",
            "lida 0.0.10 requires python-multipart, which is not installed.\n",
            "llmx 0.0.15a0 requires cohere, which is not installed.\n",
            "tensorflow-probability 0.22.0 requires typing-extensions<4.6.0, but you have typing-extensions 4.9.0 which is incompatible.\u001b[0m\u001b[31m\n",
            "\u001b[0mCollecting pdfminer.six\n",
            "  Downloading pdfminer.six-20231228-py3-none-any.whl (5.6 MB)\n",
            "\u001b[2K     \u001b[90m━━━━━━━━━━━━━━━━━━━━━━━━━━━━━━━━━━━━━━━━\u001b[0m \u001b[32m5.6/5.6 MB\u001b[0m \u001b[31m34.5 MB/s\u001b[0m eta \u001b[36m0:00:00\u001b[0m\n",
            "\u001b[?25hRequirement already satisfied: charset-normalizer>=2.0.0 in /usr/local/lib/python3.10/dist-packages (from pdfminer.six) (3.3.2)\n",
            "Requirement already satisfied: cryptography>=36.0.0 in /usr/local/lib/python3.10/dist-packages (from pdfminer.six) (41.0.7)\n",
            "Requirement already satisfied: cffi>=1.12 in /usr/local/lib/python3.10/dist-packages (from cryptography>=36.0.0->pdfminer.six) (1.16.0)\n",
            "Requirement already satisfied: pycparser in /usr/local/lib/python3.10/dist-packages (from cffi>=1.12->cryptography>=36.0.0->pdfminer.six) (2.21)\n",
            "Installing collected packages: pdfminer.six\n",
            "Successfully installed pdfminer.six-20231228\n"
          ]
        }
      ],
      "source": [
        "!pip install -q langchain openai tiktoken chromadb gdown\n",
        "!pip install pdfminer.six"
      ]
    },
    {
      "cell_type": "markdown",
      "source": [
        "## PDF to Text\n",
        "압축되어 있는 여러 PDF 파일을 압축해제 한 뒤, 텍스트로 변환"
      ],
      "metadata": {
        "id": "XJTc_m1GWTfz"
      }
    },
    {
      "cell_type": "code",
      "source": [
        "from google.colab import drive\n",
        "drive.mount('/content/drive')"
      ],
      "metadata": {
        "colab": {
          "base_uri": "https://localhost:8080/"
        },
        "id": "IeIP9J4K85Jc",
        "outputId": "f9892eb0-4bc6-4847-cb31-2a2705825094"
      },
      "execution_count": null,
      "outputs": [
        {
          "output_type": "stream",
          "name": "stdout",
          "text": [
            "Mounted at /content/drive\n"
          ]
        }
      ]
    },
    {
      "cell_type": "code",
      "source": [
        "# import zipfile\n",
        "# import os\n",
        "\n",
        "# # 압축 해제할 파일 경로\n",
        "# zip_file_path = r'/content/drive/MyDrive/QUANTIFY/경제동향 자료.zip'\n",
        "\n",
        "# # 압축 해제될 폴더 경로\n",
        "# output_folder = r'/content/drive/MyDrive/QUANTIFY/google_drive_file.zip'\n",
        "\n",
        "# # 폴더가 없다면 생성\n",
        "# if not os.path.exists(output_folder):\n",
        "#     os.makedirs(output_folder)\n",
        "\n",
        "# # Zip 파일 열기 및 압축 해제\n",
        "# with zipfile.ZipFile(zip_file_path, 'r') as zip_ref:\n",
        "#     zip_ref.extractall(output_folder)\n",
        "\n",
        "# print(f'Files extracted to {output_folder}')"
      ],
      "metadata": {
        "id": "l6XPLPVrqEaV",
        "colab": {
          "base_uri": "https://localhost:8080/"
        },
        "outputId": "72480bc4-9b36-454c-a8d3-9e4d8d607cbc"
      },
      "execution_count": null,
      "outputs": [
        {
          "output_type": "stream",
          "name": "stdout",
          "text": [
            "Files extracted to /content/drive/MyDrive/QUANTIFY/google_drive_file.zip\n"
          ]
        }
      ]
    },
    {
      "cell_type": "code",
      "source": [
        "# from pdfminer.high_level import extract_text\n",
        "\n",
        "# # PDF 파일을 저장한 폴더의 경로\n",
        "# pdf_folder = r'/content/drive/MyDrive/QUANTIFY/google_drive_file.zip'  # 압축 해제된 PDF 파일이 있는 폴더 경로\n",
        "# output_text_folder = r'/content/drive/MyDrive/QUANTIFY/text_files'  # 텍스트 파일을 저장할 폴더 경로\n",
        "\n",
        "# import os\n",
        "\n",
        "# if not os.path.exists(output_text_folder):\n",
        "#     os.makedirs(output_text_folder)\n",
        "\n",
        "# # 폴더 내의 모든 PDF 파일에 대해 반복\n",
        "# for pdf_filename in os.listdir(pdf_folder):\n",
        "#     if pdf_filename.endswith(\".pdf\"):\n",
        "#         pdf_path = os.path.join(pdf_folder, pdf_filename)\n",
        "\n",
        "#         # PDF를 텍스트로 추출\n",
        "#         text = extract_text(pdf_path)\n",
        "\n",
        "#         # 텍스트를 텍스트 파일로 저장\n",
        "#         txt_filename = pdf_filename.replace(\".pdf\", \".txt\")\n",
        "#         txt_path = os.path.join(output_text_folder, txt_filename)\n",
        "#         with open(txt_path, \"w\", encoding=\"utf-8\") as txt_file:\n",
        "#             txt_file.write(text)"
      ],
      "metadata": {
        "id": "61_ku4ZFDJep"
      },
      "execution_count": null,
      "outputs": []
    },
    {
      "cell_type": "markdown",
      "source": [
        "## Setting up LangChain\n",
        "\n",
        "OpenAI API Key\n",
        "\n",
        "https://platform.openai.com/account/api-keys"
      ],
      "metadata": {
        "id": "HqwsGJDhvAQ5"
      }
    },
    {
      "cell_type": "code",
      "source": [
        "import os\n",
        "from google.colab import userdata\n",
        "\n",
        "os.environ[\"OPENAI_API_KEY\"] = userdata.get('OpenAI_API')"
      ],
      "metadata": {
        "id": "dNA4TsHpu6OM"
      },
      "execution_count": null,
      "outputs": []
    },
    {
      "cell_type": "code",
      "source": [
        "from langchain.vectorstores import Chroma\n",
        "from langchain.embeddings import OpenAIEmbeddings\n",
        "from langchain.text_splitter import RecursiveCharacterTextSplitter\n",
        "from langchain.llms import OpenAI\n",
        "from langchain.chains import RetrievalQA\n",
        "from langchain.document_loaders import TextLoader\n",
        "from langchain.document_loaders import DirectoryLoader"
      ],
      "metadata": {
        "id": "XHVE9uFb3Ajj"
      },
      "execution_count": null,
      "outputs": []
    },
    {
      "cell_type": "markdown",
      "source": [
        "## Load multiple and process documents"
      ],
      "metadata": {
        "id": "9UcQKUId3X2M"
      }
    },
    {
      "cell_type": "code",
      "source": [
        "# loader = TextLoader('single_text_file.txt')\n",
        "output_text_folder = r'/content/drive/MyDrive/QUANTIFY/text_files'  # 텍스트 파일을 저장한 폴더 경로 - 신문 및 보고서 txt 파일 모음집(경로 수정 필요)\n",
        "loader = DirectoryLoader(output_text_folder, glob=\"*.txt\", loader_cls=TextLoader)\n",
        "\n",
        "documents = loader.load()\n",
        "\n",
        "len(documents)"
      ],
      "metadata": {
        "id": "PRSeXXc_3Ypj",
        "colab": {
          "base_uri": "https://localhost:8080/"
        },
        "outputId": "13b3c53e-0822-457e-8211-6d0b4b86b3ce"
      },
      "execution_count": null,
      "outputs": [
        {
          "output_type": "execute_result",
          "data": {
            "text/plain": [
              "13"
            ]
          },
          "metadata": {},
          "execution_count": 6
        }
      ]
    },
    {
      "cell_type": "code",
      "source": [
        "documents"
      ],
      "metadata": {
        "id": "DaCoSKPo-vYE"
      },
      "execution_count": null,
      "outputs": []
    },
    {
      "cell_type": "markdown",
      "source": [
        "## Split texts"
      ],
      "metadata": {
        "id": "L39nElP4Wdu6"
      }
    },
    {
      "cell_type": "code",
      "source": [
        "text_splitter = RecursiveCharacterTextSplitter(chunk_size=1000, chunk_overlap=200)\n",
        "texts = text_splitter.split_documents(documents)\n",
        "\n",
        "len(texts)"
      ],
      "metadata": {
        "id": "3__nT0D4Fkmg",
        "colab": {
          "base_uri": "https://localhost:8080/"
        },
        "outputId": "7788d2db-2c28-41b7-9110-74b4c88fc3b6"
      },
      "execution_count": null,
      "outputs": [
        {
          "output_type": "execute_result",
          "data": {
            "text/plain": [
              "3438"
            ]
          },
          "metadata": {},
          "execution_count": 7
        }
      ]
    },
    {
      "cell_type": "code",
      "source": [
        "texts[2:4]"
      ],
      "metadata": {
        "colab": {
          "base_uri": "https://localhost:8080/"
        },
        "id": "Bg6-9jwU4ja_",
        "outputId": "f1a46d7c-1b25-41ed-c097-8d1bc2dd67ad"
      },
      "execution_count": null,
      "outputs": [
        {
          "output_type": "execute_result",
          "data": {
            "text/plain": [
              "[Document(page_content='6-2. 경상수지 및 금융계정 ······································································································ 45\\n\\nCurrent\\x00 Account\\x00 and\\x00 Financial\\x00 Account\\n\\n7. 고용 및 임금 ····················································································································· 47\\n\\nEmployment\\x00 and\\x00 Wage\\n\\n8. 물가 ····································································································································· 49\\n\\nPrice\\x00 Indices\\n\\n9-1. 금융시장 (I) ······················································································································· 51\\n\\nFinancial\\x00 Market\\x00 (I)\\n\\n9-2. 금융시장 (II) ······················································································································ 53\\n\\nFinancial\\x00 Market\\x00 (II)\\n\\n10-1. 세계경제 동향 (I) ·············································································································· 55\\n\\nMajor\\x00 Indicators\\x00 of\\x00 the\\x00 World\\x00 Economy\\x00 (I)', metadata={'source': '/content/drive/MyDrive/QUANTIFY/text_files/17814_2.txt'}),\n",
              " Document(page_content='10-1. 세계경제 동향 (I) ·············································································································· 55\\n\\nMajor\\x00 Indicators\\x00 of\\x00 the\\x00 World\\x00 Economy\\x00 (I)\\n\\n10-2. 세계경제 동향 (II) ············································································································· 57\\n\\nMajor\\x00 Indicators\\x00 of\\x00 the\\x00 World\\x00 Economy\\x00 (II)\\n\\n\\x0c주요 경제지표\\n\\nMajor\\x00 Economic\\x00 Indicators\\n\\n2021\\n\\n2022\\n\\n(전년동기대비,\\x00%\\x00/\\x00Y-o-Y\\x00%\\x00change)\\n\\n2022\\n\\nⅠ\\n\\nⅡ\\n\\nⅢ\\n\\nⅣ\\n\\n10\\n\\n11\\n\\n12\\n\\n4.9\\n\\n7.4\\n\\n4.4\\n\\n5.9\\n\\n9.6\\x00\\n\\n-6.7\\n\\n-\\n\\n-\\n\\n-\\n\\n-\\n\\n-\\n\\n-\\n\\n4.0\\n\\n4.5\\n\\n4.0\\n\\n4.7\\n\\n4.1\\n\\n1.2\\n\\n4.1\\n\\n5.5\\n\\n6.0\\n\\n2.8\\n\\n-0.2\\n\\n-0.2\\n\\n-1.3\\x00\\n\\n-2.4\\x00\\n\\n7.5\\x00\\n\\n-1.5\\n\\n2.1\\n\\n3.9\\n\\n-\\n\\n-\\n\\n-\\n\\n-\\n\\n-\\n\\n-\\n\\n2.7\\n\\n0.6\\n\\n-1.2\\n\\n-3.7\\n\\n4.8\\n\\n2.6\\n\\n-0.7\\n\\n-2.2\\n\\n16.6\\x00\\n\\n11.0\\x00\\n\\n8.9\\n\\n10.2\\n\\n-\\n\\n-\\n\\n-\\n\\n-\\n\\n-\\n\\n-\\n\\n25.7\\n\\n6.1\\n\\n18.4\\n\\n13.0\\n\\n5.8\\n\\n-9.9\\n\\n-5.8\\n\\n-14.0\\n\\n-9.5\\n\\n31.5\\n\\n18.9\\n\\n30.0\\n\\n22.9\\n\\n22.6\\n\\n3.1\\n\\n9.9\\n\\n2.7\\n\\n-2.4\\n\\n전산업생산\\nAll\\x00Industry\\x00Production\\n\\n광공업생산\\nIndustrial\\x00Production\\n\\n서비스업생산\\nService\\x00Production\\n\\n소매판매액지수\\nRetail\\x00Sales\\x00Index\\n\\n설비투자지수\\nIndex\\x00of\\x00Equipment\\x00Investment', metadata={'source': '/content/drive/MyDrive/QUANTIFY/text_files/17814_2.txt'})]"
            ]
          },
          "metadata": {},
          "execution_count": 8
        }
      ]
    },
    {
      "cell_type": "markdown",
      "source": [
        "## Create Chroma DB\n",
        "\n",
        "1. Text -> Embbedings\n",
        "2. `db` 폴더에 데이터 저장\n",
        "3. DB 초기화\n",
        "4. `db` 폴더로부터 DB 로드"
      ],
      "metadata": {
        "id": "YsYsIy8F4cdm"
      }
    },
    {
      "cell_type": "code",
      "source": [
        "persist_directory = 'db'\n",
        "\n",
        "embedding = OpenAIEmbeddings()\n",
        "\n",
        "vectordb = Chroma.from_documents(\n",
        "    documents=texts,\n",
        "    embedding=embedding,\n",
        "    persist_directory=persist_directory)"
      ],
      "metadata": {
        "id": "Q_eTIZwf4Dk2",
        "colab": {
          "base_uri": "https://localhost:8080/"
        },
        "outputId": "057af509-f0fa-4882-f533-f77b4bbe4e70"
      },
      "execution_count": null,
      "outputs": [
        {
          "output_type": "stream",
          "name": "stderr",
          "text": [
            "/usr/local/lib/python3.10/dist-packages/langchain_core/_api/deprecation.py:117: LangChainDeprecationWarning: The class `langchain_community.embeddings.openai.OpenAIEmbeddings` was deprecated in langchain-community 0.1.0 and will be removed in 0.2.0. Use langchain_openai.OpenAIEmbeddings instead.\n",
            "  warn_deprecated(\n"
          ]
        }
      ]
    },
    {
      "cell_type": "code",
      "source": [
        "vectordb.persist()\n",
        "vectordb = None"
      ],
      "metadata": {
        "id": "uRfD_Te-47lb"
      },
      "execution_count": null,
      "outputs": []
    },
    {
      "cell_type": "code",
      "source": [
        "vectordb = Chroma(\n",
        "    persist_directory=persist_directory,\n",
        "    embedding_function=embedding)"
      ],
      "metadata": {
        "id": "A-h1y_eAHmD-"
      },
      "execution_count": null,
      "outputs": []
    },
    {
      "cell_type": "markdown",
      "source": [
        "## Make a retriever"
      ],
      "metadata": {
        "id": "siLXR-XT0JoI"
      }
    },
    {
      "cell_type": "markdown",
      "source": [
        "### 결과를 k개 반환"
      ],
      "metadata": {
        "id": "h3mZszDFW5aw"
      }
    },
    {
      "cell_type": "code",
      "source": [
        "retriever = vectordb.as_retriever(search_kwargs={\"k\": 3})"
      ],
      "metadata": {
        "id": "jVWgPJXs1yRq"
      },
      "execution_count": null,
      "outputs": []
    },
    {
      "cell_type": "code",
      "source": [
        "docs = retriever.get_relevant_documents(\"최근 한국의 경제상황은?\")\n",
        "\n",
        "for doc in docs:\n",
        "    print(doc.metadata[\"source\"])"
      ],
      "metadata": {
        "colab": {
          "base_uri": "https://localhost:8080/"
        },
        "id": "58fAAOHfVLeM",
        "outputId": "2641fa9b-443e-4881-e167-01ba1189b274"
      },
      "execution_count": null,
      "outputs": [
        {
          "output_type": "stream",
          "name": "stdout",
          "text": [
            "/content/drive/MyDrive/QUANTIFY/text_files/2023_Korean_Economy_News (1).txt\n",
            "/content/drive/MyDrive/QUANTIFY/text_files/2023_Korean_Economy_News (1).txt\n",
            "/content/drive/MyDrive/QUANTIFY/text_files/2023_Korean_Economy_News (1).txt\n"
          ]
        }
      ]
    },
    {
      "cell_type": "markdown",
      "source": [
        "## Make a chain"
      ],
      "metadata": {
        "id": "4Ia-4OXa5IeP"
      }
    },
    {
      "cell_type": "code",
      "source": [
        "from langchain.chat_models import ChatOpenAI\n",
        "from langchain.chains import RetrievalQA\n",
        "\n",
        "# Create the language model instance using GPT-4\n",
        "llm = ChatOpenAI(model_name='gpt-4')\n",
        "\n",
        "# Use the llm instance in RetrievalQA.from_chain_type\n",
        "qa = RetrievalQA.from_chain_type(\n",
        "    llm=llm,\n",
        "    chain_type=\"stuff\",\n",
        "    retriever=retriever,\n",
        "    return_source_documents=True)"
      ],
      "metadata": {
        "id": "MGx8XblM4shW"
      },
      "execution_count": null,
      "outputs": []
    },
    {
      "cell_type": "code",
      "source": [
        "def process_llm_response(llm_response):\n",
        "    print(llm_response['result'])\n",
        "    print('\\n\\nSources:')\n",
        "    for source in llm_response[\"source_documents\"]:\n",
        "        print(source.metadata['source'])"
      ],
      "metadata": {
        "id": "LZEo26mw8e5k"
      },
      "execution_count": null,
      "outputs": []
    },
    {
      "cell_type": "markdown",
      "source": [
        "## Query"
      ],
      "metadata": {
        "id": "RjyrGZyeW_iO"
      }
    },
    {
      "cell_type": "code",
      "source": [
        "query = \"한국 경제는 미국에 얼마나 영향받니?\"\n",
        "llm_response = qa(query)\n",
        "process_llm_response(llm_response)"
      ],
      "metadata": {
        "colab": {
          "base_uri": "https://localhost:8080/"
        },
        "id": "wKfX4vX-5RFT",
        "outputId": "8f971946-7619-4a85-a496-9657553cc12b"
      },
      "execution_count": null,
      "outputs": [
        {
          "output_type": "stream",
          "name": "stdout",
          "text": [
            "한국 경제는 미국 경제에 크게 영향을 받습니다. 미국 경제가 성장하면 그 성장은 수출 의존도가 높은 한국 경제에도 긍정적인 영향을 미칩니다. 예를 들어, 미국 경제가 호황일 때에는 한국의 수출이 증가하며, 이는 한국 경제에 흑자를 가져다줍니다. 이창용 한국은행 총재는 미국 경제가 성장하면 그것이 한국 수출에 좋다고 말한 바 있습니다. 그러나 미국과 중국 간의 경제 갈등이 계속될 경우 이는 한국 경제에 불확실성을 가져다줄 수 있습니다.\n",
            "\n",
            "\n",
            "Sources:\n",
            "/content/drive/MyDrive/QUANTIFY/text_files/2023_Korean_Economy_News (1).txt\n",
            "/content/drive/MyDrive/QUANTIFY/text_files/2023_Korean_Economy_News (1).txt\n",
            "/content/drive/MyDrive/QUANTIFY/text_files/2023_Korean_Economy_News (1).txt\n"
          ]
        }
      ]
    },
    {
      "cell_type": "code",
      "source": [
        "llm_response"
      ],
      "metadata": {
        "colab": {
          "base_uri": "https://localhost:8080/"
        },
        "id": "olRm73t3rNt2",
        "outputId": "caa64f17-950b-40e0-efd3-2649880d2aed"
      },
      "execution_count": null,
      "outputs": [
        {
          "output_type": "execute_result",
          "data": {
            "text/plain": [
              "{'query': '한국 경제는 미국에 얼마나 영향받니?',\n",
              " 'result': '한국 경제는 미국 경제에 크게 영향을 받습니다. 미국 경제가 성장하면 그 성장은 수출 의존도가 높은 한국 경제에도 긍정적인 영향을 미칩니다. 예를 들어, 미국 경제가 호황일 때에는 한국의 수출이 증가하며, 이는 한국 경제에 흑자를 가져다줍니다. 이창용 한국은행 총재는 미국 경제가 성장하면 그것이 한국 수출에 좋다고 말한 바 있습니다. 그러나 미국과 중국 간의 경제 갈등이 계속될 경우 이는 한국 경제에 불확실성을 가져다줄 수 있습니다.',\n",
              " 'source_documents': [Document(page_content='올해 예상외로 호조를 보인 미국 경제가 내년에도 완만한 성장을 유지하면서 세계 경제 성장세를 이끌 것이란 국내 전문가 분석이 나왔다. 이는 수출 의존도가 높은 한국 경제에도 긍정적인 영향을 줄 것으로 기대된다. 다만 중국 경제가 아직 성장 동력을 되찾을 거라고 기대하기 힘든 상황이고, 세계 교역의 긴장감을 키우는 미·중 갈등도 계속 이어질 가능성이 크기 때문에 한국 경제를 둘러싼 불확실성은 내년에도 여전할 것이란 지적도 제기된다.\"\"美, 내년 세계 경제 버팀목\"\"…韓 호재국립외교원은 최근 내놓은 내년 국제정세전망에서 미국 경제에 대해 \"\"2024년에도 완만한 성장세를 이어가며 세계 경제 성장의 버팀목이 될 것으로 보인다\"\"며 \"\"이런 낙관적인 전망의 배경에는 미국 내 개인소비의 견고한 확대를 토대로 한 미국 경제의 연착륙 가능성이 자리 잡고 있다\"\"고 설명했다.민정훈 국립외교원 교수는 전날 정부서울청사에서 열린 관련 브리핑에서 \"\"이번 연휴 시즌에 쇼핑한 것을 보면 (소비자들이) 생각 외로 지갑을 많이 열었다\"\"며 \"\"실물 경기에 있어서도 선전하고 있는 만큼 내년 상반기에 미국 경제가 호황으로 갈 가능성이 있다\"\"고 설명했다.실제 마스터카드 스펜딩펄스 보고서에 따르면 미국의 소비 대목인 연말 추수감사절과 크리스마스 기간 중 자동차를 제외한 소매판매는 지난해 같은 기간 대비 3.1% 증가했다.미국 경제가 성장세를 이어가면 한국 경제에도 긍정적인 영향을 줄 것으로 기대된다. 올해만 해도 한국 경제는 고금리와 반도체 경기 부진, 중국 성장세 둔화에 크게 주춤했으나, 미국 경제 호황으로 대미 자동차 등 수출이 늘면서 흑자 기조를 이어갈 수 있었다. 이창용 한국은행 총재는 지난달 30일 기자간담회에서 \"\"지난해는 (미국 경제 호조로) 환율 영향이 커지면서 곤혹스러웠다\"\"면서도 \"\"지금은 오히려 미국 성장률이 높은 게 우리 수출에 좋기 때문에 미국 경제가 연착륙했으면 좋겠다고 보고 있다\"\"고 말한 바 있다.', metadata={'source': '/content/drive/MyDrive/QUANTIFY/text_files/2023_Korean_Economy_News (1).txt'}),\n",
              "  Document(page_content='올해 예상외로 호조를 보인 미국 경제가 내년에도 완만한 성장을 유지하면서 세계 경제 성장세를 이끌 것이란 국내 전문가 분석이 나왔다. 이는 수출 의존도가 높은 한국 경제에도 긍정적인 영향을 줄 것으로 기대된다. 다만 중국 경제가 아직 성장 동력을 되찾을 거라고 기대하기 힘든 상황이고, 세계 교역의 긴장감을 키우는 미·중 갈등도 계속 이어질 가능성이 크기 때문에 한국 경제를 둘러싼 불확실성은 내년에도 여전할 것이란 지적도 제기된다.\"\"美, 내년 세계 경제 버팀목\"\"…韓 호재국립외교원은 최근 내놓은 내년 국제정세전망에서 미국 경제에 대해 \"\"2024년에도 완만한 성장세를 이어가며 세계 경제 성장의 버팀목이 될 것으로 보인다\"\"며 \"\"이런 낙관적인 전망의 배경에는 미국 내 개인소비의 견고한 확대를 토대로 한 미국 경제의 연착륙 가능성이 자리 잡고 있다\"\"고 설명했다.민정훈 국립외교원 교수는 전날 정부서울청사에서 열린 관련 브리핑에서 \"\"이번 연휴 시즌에 쇼핑한 것을 보면 (소비자들이) 생각 외로 지갑을 많이 열었다\"\"며 \"\"실물 경기에 있어서도 선전하고 있는 만큼 내년 상반기에 미국 경제가 호황으로 갈 가능성이 있다\"\"고 설명했다.실제 마스터카드 스펜딩펄스 보고서에 따르면 미국의 소비 대목인 연말 추수감사절과 크리스마스 기간 중 자동차를 제외한 소매판매는 지난해 같은 기간 대비 3.1% 증가했다.미국 경제가 성장세를 이어가면 한국 경제에도 긍정적인 영향을 줄 것으로 기대된다. 올해만 해도 한국 경제는 고금리와 반도체 경기 부진, 중국 성장세 둔화에 크게 주춤했으나, 미국 경제 호황으로 대미 자동차 등 수출이 늘면서 흑자 기조를 이어갈 수 있었다. 이창용 한국은행 총재는 지난달 30일 기자간담회에서 \"\"지난해는 (미국 경제 호조로) 환율 영향이 커지면서 곤혹스러웠다\"\"면서도 \"\"지금은 오히려 미국 성장률이 높은 게 우리 수출에 좋기 때문에 미국 경제가 연착륙했으면 좋겠다고 보고 있다\"\"고 말한 바 있다.', metadata={'source': '/content/drive/MyDrive/QUANTIFY/text_files/2023_Korean_Economy_News (1).txt'}),\n",
              "  Document(page_content='올해 예상외로 호조를 보인 미국 경제가 내년에도 완만한 성장을 유지하면서 세계 경제 성장세를 이끌 것이란 국내 전문가 분석이 나왔다. 이는 수출 의존도가 높은 한국 경제에도 긍정적인 영향을 줄 것으로 기대된다. 다만 중국 경제가 아직 성장 동력을 되찾을 거라고 기대하기 힘든 상황이고, 세계 교역의 긴장감을 키우는 미·중 갈등도 계속 이어질 가능성이 크기 때문에 한국 경제를 둘러싼 불확실성은 내년에도 여전할 것이란 지적도 제기된다.\"\"美, 내년 세계 경제 버팀목\"\"…韓 호재국립외교원은 최근 내놓은 내년 국제정세전망에서 미국 경제에 대해 \"\"2024년에도 완만한 성장세를 이어가며 세계 경제 성장의 버팀목이 될 것으로 보인다\"\"며 \"\"이런 낙관적인 전망의 배경에는 미국 내 개인소비의 견고한 확대를 토대로 한 미국 경제의 연착륙 가능성이 자리 잡고 있다\"\"고 설명했다.민정훈 국립외교원 교수는 전날 정부서울청사에서 열린 관련 브리핑에서 \"\"이번 연휴 시즌에 쇼핑한 것을 보면 (소비자들이) 생각 외로 지갑을 많이 열었다\"\"며 \"\"실물 경기에 있어서도 선전하고 있는 만큼 내년 상반기에 미국 경제가 호황으로 갈 가능성이 있다\"\"고 설명했다.실제 마스터카드 스펜딩펄스 보고서에 따르면 미국의 소비 대목인 연말 추수감사절과 크리스마스 기간 중 자동차를 제외한 소매판매는 지난해 같은 기간 대비 3.1% 증가했다.미국 경제가 성장세를 이어가면 한국 경제에도 긍정적인 영향을 줄 것으로 기대된다. 올해만 해도 한국 경제는 고금리와 반도체 경기 부진, 중국 성장세 둔화에 크게 주춤했으나, 미국 경제 호황으로 대미 자동차 등 수출이 늘면서 흑자 기조를 이어갈 수 있었다. 이창용 한국은행 총재는 지난달 30일 기자간담회에서 \"\"지난해는 (미국 경제 호조로) 환율 영향이 커지면서 곤혹스러웠다\"\"면서도 \"\"지금은 오히려 미국 성장률이 높은 게 우리 수출에 좋기 때문에 미국 경제가 연착륙했으면 좋겠다고 보고 있다\"\"고 말한 바 있다.', metadata={'source': '/content/drive/MyDrive/QUANTIFY/text_files/2023_Korean_Economy_News (1).txt'})]}"
            ]
          },
          "metadata": {},
          "execution_count": 53
        }
      ]
    }
  ]
}